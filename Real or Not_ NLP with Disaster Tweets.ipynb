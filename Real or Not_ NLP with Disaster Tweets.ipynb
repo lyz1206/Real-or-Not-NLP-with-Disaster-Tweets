{
 "cells": [
  {
   "cell_type": "code",
   "execution_count": null,
   "metadata": {
    "_cell_guid": "b1076dfc-b9ad-4769-8c92-a6c4dae69d19",
    "_uuid": "8f2839f25d086af736a60e9eeb907d3b93b6e0e5"
   },
   "outputs": [],
   "source": [
    "# This Python 3 environment comes with many helpful analytics libraries installed\n",
    "# It is defined by the kaggle/python docker image: https://github.com/kaggle/docker-python\n",
    "# For example, here's several helpful packages to load in \n",
    "\n",
    "import numpy as np # linear algebra\n",
    "import pandas as pd # data processing, CSV file I/O (e.g. pd.read_csv)\n",
    "\n",
    "# Input data files are available in the \"../input/\" directory.\n",
    "# For example, running this (by clicking run or pressing Shift+Enter) will list all files under the input directory\n",
    "\n",
    "import os\n",
    "for dirname, _, filenames in os.walk('/kaggle/input'):\n",
    "    for filename in filenames:\n",
    "        print(os.path.join(dirname, filename))\n",
    "\n",
    "# Any results you write to the current directory are saved as output."
   ]
  },
  {
   "cell_type": "code",
   "execution_count": 1,
   "metadata": {
    "_cell_guid": "79c7e3d0-c299-4dcb-8224-4455121ee9b0",
    "_uuid": "d629ff2d2480ee46fbb7e2d37f6b5fab8052498a"
   },
   "outputs": [],
   "source": [
    "import pandas as pd\n",
    "import numpy as np\n",
    "import string\n",
    "import gensim\n",
    "import re\n",
    "from nltk.stem import WordNetLemmatizer\n",
    "from nltk import PorterStemmer\n",
    "from sklearn.feature_extraction.text import CountVectorizer \n",
    "import itertools\n",
    "from sklearn.model_selection import train_test_split\n",
    "import seaborn as sns\n",
    "import matplotlib.pyplot as plt\n",
    "from collections import Counter"
   ]
  },
  {
   "cell_type": "code",
   "execution_count": 2,
   "metadata": {},
   "outputs": [
    {
     "name": "stderr",
     "output_type": "stream",
     "text": [
      "Using TensorFlow backend.\n"
     ]
    }
   ],
   "source": [
    "from __future__ import print_function\n",
    "from tensorflow.keras.models import Sequential\n",
    "from tensorflow.keras.layers import Dense, Activation\n",
    "from tensorflow.keras.datasets import fashion_mnist\n",
    "import keras"
   ]
  },
  {
   "cell_type": "code",
   "execution_count": 7,
   "metadata": {},
   "outputs": [],
   "source": [
    "## Load data\n",
    "train = pd.read_csv(\"/kaggle/input/nlp-getting-started/train.csv\")\n",
    "test = pd.read_csv(\"/kaggle/input/nlp-getting-started/test.csv\")"
   ]
  },
  {
   "cell_type": "markdown",
   "metadata": {},
   "source": [
    "---"
   ]
  },
  {
   "cell_type": "markdown",
   "metadata": {},
   "source": [
    "## Preprocess"
   ]
  },
  {
   "cell_type": "code",
   "execution_count": 8,
   "metadata": {},
   "outputs": [],
   "source": [
    "def lemmatize_stemming(text):\n",
    "    \"\"\"\n",
    "    Lemmatize and stem the text\n",
    "    \"\"\"\n",
    "    return PorterStemmer().stem(WordNetLemmatizer().lemmatize(text, pos='v'))\n",
    "\n",
    "def preprocess(text):\n",
    "    '''\n",
    "    Preprocess the text\n",
    "    '''\n",
    "    \n",
    "    result = []\n",
    "    for token in gensim.utils.simple_preprocess(text):\n",
    "        if token not in gensim.parsing.preprocessing.STOPWORDS :\n",
    "            result.append(lemmatize_stemming(token))\n",
    "    return result"
   ]
  },
  {
   "cell_type": "code",
   "execution_count": 9,
   "metadata": {},
   "outputs": [],
   "source": [
    "# filter html link\n",
    "train[\"text\"] = train.text.apply(lambda x: re.sub(r'(https|http)?:\\/\\/(\\w|\\.|\\/|\\?|\\=|\\&|\\%)*\\b', '', x))\n",
    "test[\"text\"] = test.text.apply(lambda x: re.sub(r'(https|http)?:\\/\\/(\\w|\\.|\\/|\\?|\\=|\\&|\\%)*\\b', '', x))\n",
    "\n",
    "# text preprocessing\n",
    "train_clean_text = train.text.map(preprocess)\n",
    "test_clean_text = test.text.map(preprocess)\n",
    "train[\"clean_text\"] = train_clean_text.apply(lambda x: \" \".join(x))\n",
    "test[\"clean_text\"] = test_clean_text.apply(lambda x: \" \".join(x))"
   ]
  },
  {
   "cell_type": "code",
   "execution_count": 10,
   "metadata": {},
   "outputs": [],
   "source": [
    "clean_keyword = train.keyword.apply(lambda x: \" \".join(re.findall(\"[a-zA-Z]+\", str(x))))\n",
    "train[\"clean_keyword\"] = clean_keyword"
   ]
  },
  {
   "cell_type": "markdown",
   "metadata": {},
   "source": [
    "---"
   ]
  },
  {
   "cell_type": "markdown",
   "metadata": {},
   "source": [
    "## Data Visualization"
   ]
  },
  {
   "cell_type": "markdown",
   "metadata": {},
   "source": [
    "### Distribution of Label"
   ]
  },
  {
   "cell_type": "code",
   "execution_count": 11,
   "metadata": {},
   "outputs": [
    {
     "data": {
      "image/png": "[encoded data removed]",
      "text/plain": [
       "<Figure size 432x288 with 1 Axes>"
      ]
     },
     "metadata": {
      "needs_background": "light"
     },
     "output_type": "display_data"
    }
   ],
   "source": [
    "target_count = train.target.value_counts()\n",
    "sns.barplot(target_count.index, target_count)\n",
    "plt.xlabel(\"Disaster or Not\", fontsize=12)\n",
    "plt.ylabel(\"Count\", fontsize=12)\n",
    "plt.title(\"Figure 1 Distribution of Response Label\", fontsize=16)\n",
    "pass"
   ]
  },
  {
   "cell_type": "markdown",
   "metadata": {},
   "source": [
    "### Distribution of keywords\n",
    "\n",
    "The missing rate for keyword is only 0.8%.  \n",
    "\n",
    "Some common keyword for a real disaster news includes: derailment, wreckage, outbreak, typhoon, oil splil, evacuated, etc.  \n",
    "\n",
    "Some common keyword for a fake disaster news includes: body bags, armagreddon, harm, ruin, wrecked, deluge, etc."
   ]
  },
  {
   "cell_type": "code",
   "execution_count": 12,
   "metadata": {},
   "outputs": [
    {
     "name": "stdout",
     "output_type": "stream",
     "text": [
      "The missing rate of keyword is 0.801261%\n"
     ]
    }
   ],
   "source": [
    "keyword_na_count = sum(train.keyword.isna())/train.shape[0]\n",
    "print(\"The missing rate of keyword is {:2%}\".format(keyword_na_count))"
   ]
  },
  {
   "cell_type": "code",
   "execution_count": 13,
   "metadata": {},
   "outputs": [],
   "source": [
    "train_positive = train.loc[(train.target==1) & (train.clean_keyword != \"nan\")]\n",
    "train_negative = train.loc[(train.target==0) & (train.clean_keyword != \"nan\")]"
   ]
  },
  {
   "cell_type": "code",
   "execution_count": 14,
   "metadata": {},
   "outputs": [
    {
     "data": {
      "image/png": "[encoded data removed]",
      "text/plain": [
       "<Figure size 432x288 with 1 Axes>"
      ]
     },
     "metadata": {
      "needs_background": "light"
     },
     "output_type": "display_data"
    }
   ],
   "source": [
    "top_keyword_positive = train_positive.clean_keyword.value_counts()[:15]\n",
    "sns.barplot(y=top_keyword_positive.index, x=top_keyword_positive)\n",
    "plt.xlabel(\"Count\", fontsize=12)\n",
    "plt.title(\"Top 15 keywords in real disaster\", fontsize=16)\n",
    "pass"
   ]
  },
  {
   "cell_type": "code",
   "execution_count": 15,
   "metadata": {},
   "outputs": [
    {
     "data": {
      "image/png": "[encoded data removed]",
      "text/plain": [
       "<Figure size 432x288 with 1 Axes>"
      ]
     },
     "metadata": {
      "needs_background": "light"
     },
     "output_type": "display_data"
    }
   ],
   "source": [
    "top_keyword_negative = train_negative.clean_keyword.value_counts()[:15]\n",
    "sns.barplot(y=top_keyword_negative.index, x=top_keyword_negative)\n",
    "plt.xlabel(\"Count\", fontsize=12)\n",
    "plt.title(\"Top 15 keywords in fake disaster news\", fontsize=16)\n",
    "pass"
   ]
  },
  {
   "cell_type": "markdown",
   "metadata": {},
   "source": [
    "### Distribution of text length \n"
   ]
  },
  {
   "cell_type": "code",
   "execution_count": 17,
   "metadata": {},
   "outputs": [],
   "source": [
    "train[\"text_len\"] = train.clean_text.apply(len)\n",
    "real_disaster = train.loc[train.target==1]\n",
    "fake_disaster = train.loc[train.target==0]"
   ]
  },
  {
   "cell_type": "code",
   "execution_count": 18,
   "metadata": {},
   "outputs": [
    {
     "data": {
      "image/png": "[encoded data removed]",
      "text/plain": [
       "<Figure size 432x288 with 1 Axes>"
      ]
     },
     "metadata": {},
     "output_type": "display_data"
    }
   ],
   "source": [
    "sns.set()\n",
    "sns.distplot(real_disaster.text_len, color=\"green\",kde_kws={\"label\":\"Real disaster\", \"color\":\"green\"})\n",
    "sns.distplot(fake_disaster.text_len, color=\"red\",kde_kws={\"label\":\"Fake disaster\", \"color\":\"red\"})\n",
    "plt.xlabel(\"Text length\", fontsize=12)\n",
    "plt.title(\"Distribution of text length\", fontsize=16)\n",
    "pass"
   ]
  },
  {
   "cell_type": "markdown",
   "metadata": {},
   "source": [
    "---"
   ]
  },
  {
   "cell_type": "markdown",
   "metadata": {},
   "source": [
    "## One-Hot Encoding and fully connect neuro netword"
   ]
  },
  {
   "cell_type": "code",
   "execution_count": 19,
   "metadata": {},
   "outputs": [],
   "source": [
    "all_text = []\n",
    "for text in train_clean_text:\n",
    "    all_text += text\n",
    "\n",
    "for text in test_clean_text:\n",
    "    all_text += text"
   ]
  },
  {
   "cell_type": "code",
   "execution_count": 20,
   "metadata": {},
   "outputs": [],
   "source": [
    "counter = Counter()\n",
    "for word in all_text:\n",
    "    counter[word] += 1\n",
    "    \n",
    "counter_sort = sorted(counter, key=counter.get, reverse=True)\n",
    "\n",
    "all_words = counter_sort[:8000]\n",
    "word_to_id = {word:idx for idx, word in enumerate(all_words)}"
   ]
  },
  {
   "cell_type": "code",
   "execution_count": 21,
   "metadata": {},
   "outputs": [],
   "source": [
    "def encode_sentence(text, word_to_id):\n",
    "    '''\n",
    "    This function applies one-hot encoding to the text.\n",
    "    It sum up all the vectors in one sentence and then take the average.\n",
    "    '''\n",
    "    length = len(word_to_id)\n",
    "    encode = [0] * length\n",
    "    if len(text) == 0:\n",
    "        return encode\n",
    "    for i in text:\n",
    "        if i in word_to_id:\n",
    "            encode[word_to_id[i]] += 1\n",
    "    return [j/len(text) for j in encode]  "
   ]
  },
  {
   "cell_type": "code",
   "execution_count": 22,
   "metadata": {},
   "outputs": [],
   "source": [
    "# one-hot encoding\n",
    "encode_train = pd.Series(train_clean_text).apply(lambda x: encode_sentence(x, word_to_id))\n",
    "encode_test = pd.Series(test_clean_text).apply(lambda x: encode_sentence(x, word_to_id))\n",
    "\n",
    "# generate a dataframe for NN\n",
    "train_df = pd.DataFrame(list(encode_train), columns=list(range(8000)))\n",
    "test_df = pd.DataFrame(list(encode_test), columns=list(range(8000)))"
   ]
  },
  {
   "cell_type": "code",
   "execution_count": 23,
   "metadata": {},
   "outputs": [],
   "source": [
    "# split data into training set and test set\n",
    "X_train, X_test, Y_train, Y_test = train_test_split(train_df, train.target, test_size=0.1)\n",
    "Y_train = keras.utils.to_categorical(Y_train, num_classes=2)\n",
    "Y_test = keras.utils.to_categorical(Y_test, num_classes=2)"
   ]
  },
  {
   "cell_type": "code",
   "execution_count": 24,
   "metadata": {},
   "outputs": [
    {
     "name": "stdout",
     "output_type": "stream",
     "text": [
      "Train on 6851 samples, validate on 762 samples\n",
      "Epoch 1/2\n",
      "6851/6851 [==============================] - 3s 474us/sample - loss: 0.5750 - accuracy: 0.6928 - val_loss: 0.4800 - val_accuracy: 0.7782\n",
      "Epoch 2/2\n",
      "6851/6851 [==============================] - 1s 104us/sample - loss: 0.3107 - accuracy: 0.8768 - val_loss: 0.5044 - val_accuracy: 0.7913\n"
     ]
    },
    {
     "data": {
      "text/plain": [
       "<tensorflow.python.keras.callbacks.History at 0x7f59bd8b0f60>"
      ]
     },
     "execution_count": 24,
     "metadata": {},
     "output_type": "execute_result"
    }
   ],
   "source": [
    "model = Sequential()\n",
    "model.add(Dense(8000, activation='relu', input_shape=(8000,)))\n",
    "model.add(Dense(256, activation='relu'))\n",
    "model.add(Dense(256, activation=\"relu\"))\n",
    "model.add(Dense(2, activation='sigmoid'))\n",
    "\n",
    "model.compile(optimizer='adam', \n",
    "          loss = 'binary_crossentropy', \n",
    "          metrics = ['accuracy'])\n",
    "\n",
    "model.fit(X_train, Y_train, \n",
    "          batch_size=256,\n",
    "          epochs=2,\n",
    "          validation_data=(X_test, Y_test))"
   ]
  },
  {
   "cell_type": "code",
   "execution_count": 25,
   "metadata": {},
   "outputs": [
    {
     "name": "stdout",
     "output_type": "stream",
     "text": [
      "Test accuracy 0.79133856\n"
     ]
    }
   ],
   "source": [
    "score = model.evaluate(X_test, Y_test, verbose=0)\n",
    "print(\"Test accuracy\", score[1])"
   ]
  },
  {
   "cell_type": "markdown",
   "metadata": {},
   "source": [
    "---"
   ]
  },
  {
   "cell_type": "markdown",
   "metadata": {},
   "source": [
    "## LSTM"
   ]
  },
  {
   "cell_type": "code",
   "execution_count": 26,
   "metadata": {},
   "outputs": [],
   "source": [
    "import tensorflow as tf\n",
    "from tensorflow import keras\n",
    "from tensorflow.keras.layers import Embedding, LSTM, Dense\n",
    "from tensorflow.keras.preprocessing.text import Tokenizer\n",
    "from tensorflow.keras.preprocessing.sequence import pad_sequences"
   ]
  },
  {
   "cell_type": "code",
   "execution_count": 84,
   "metadata": {},
   "outputs": [],
   "source": [
    "vocab_size = 5000\n",
    "oov_tok = \"OOV\"\n",
    "embedding_dim = 8\n",
    "max_length = 100\n",
    "trunc_type = \"post\"\n",
    "train_size = 0.9"
   ]
  },
  {
   "cell_type": "code",
   "execution_count": 85,
   "metadata": {},
   "outputs": [],
   "source": [
    "tokenizer = Tokenizer(num_words = vocab_size, oov_token = oov_tok)\n",
    "tokenizer.fit_on_texts(train.clean_text)\n",
    "train_sequence = tokenizer.texts_to_sequences(train.clean_text)\n",
    "train_padded = pad_sequences(train_sequence, maxlen=max_length, padding=\"post\")"
   ]
  },
  {
   "cell_type": "code",
   "execution_count": 86,
   "metadata": {},
   "outputs": [],
   "source": [
    "label = train.target"
   ]
  },
  {
   "cell_type": "code",
   "execution_count": 87,
   "metadata": {},
   "outputs": [],
   "source": [
    "n_row = train.shape[0]\n",
    "train_index = int(train_size*n_row)\n",
    "train_data = train_padded[:train_index]\n",
    "validation_data = train_padded[train_index:]\n",
    "train_label = label[:train_index]\n",
    "validation_label = label[train_index:]"
   ]
  },
  {
   "cell_type": "code",
   "execution_count": 88,
   "metadata": {},
   "outputs": [],
   "source": [
    "model = tf.keras.Sequential([\n",
    "    tf.keras.layers.Embedding(vocab_size, embedding_dim, input_length=max_length),\n",
    "    tf.keras.layers.Bidirectional(tf.keras.layers.LSTM(16)),\n",
    "    tf.keras.layers.Dense(4, activation='relu'),\n",
    "    tf.keras.layers.Dense(1, activation=\"sigmoid\")\n",
    "])\n",
    "\n",
    "model.compile(loss=\"binary_crossentropy\", optimizer=\"adam\", metrics=['accuracy'])"
   ]
  },
  {
   "cell_type": "code",
   "execution_count": 89,
   "metadata": {},
   "outputs": [
    {
     "name": "stdout",
     "output_type": "stream",
     "text": [
      "Train on 6851 samples, validate on 762 samples\n",
      "Epoch 1/2\n",
      "6851/6851 [==============================] - 6s 874us/sample - loss: 0.6340 - accuracy: 0.6272 - val_loss: 0.5303 - val_accuracy: 0.7913\n",
      "Epoch 2/2\n",
      "6851/6851 [==============================] - 3s 447us/sample - loss: 0.4032 - accuracy: 0.8305 - val_loss: 0.4402 - val_accuracy: 0.8163\n"
     ]
    }
   ],
   "source": [
    "num_epochs=2\n",
    "model.fit(train_data, train_label, epochs=num_epochs,\n",
    "         validation_data=(validation_data, validation_label))"
   ]
  },
  {
   "cell_type": "code",
   "execution_count": null,
   "metadata": {},
   "outputs": [],
   "source": []
  }
 ],
 "metadata": {
  "kernelspec": {
   "display_name": "Python 3",
   "language": "python",
   "name": "python3"
  },
  "language_info": {
   "codemirror_mode": {
    "name": "ipython",
    "version": 3
   },
   "file_extension": ".py",
   "mimetype": "text/x-python",
   "name": "python",
   "nbconvert_exporter": "python",
   "pygments_lexer": "ipython3",
   "version": "3.7.4"
  }
 },
 "nbformat": 4,
 "nbformat_minor": 4
}
